{
 "cells": [
  {
   "cell_type": "markdown",
   "metadata": {},
   "source": [
    "# End to end reconstruction "
   ]
  },
  {
   "cell_type": "code",
   "execution_count": 1,
   "metadata": {},
   "outputs": [],
   "source": [
    "import os\n",
    "import torch\n",
    "import pandas as pd\n",
    "import numpy as np\n",
    "import matplotlib.pyplot as plt\n",
    "from tables import open_file"
   ]
  },
  {
   "cell_type": "code",
   "execution_count": 2,
   "metadata": {},
   "outputs": [],
   "source": [
    "import sys\n",
    "sys.path.insert(0,'../utils')"
   ]
  },
  {
   "cell_type": "code",
   "execution_count": 3,
   "metadata": {},
   "outputs": [],
   "source": [
    "from gammalearn import load_model"
   ]
  },
  {
   "cell_type": "code",
   "execution_count": 4,
   "metadata": {},
   "outputs": [],
   "source": [
    "import warnings\n",
    "warnings.filterwarnings(action='ignore')"
   ]
  },
  {
   "cell_type": "code",
   "execution_count": 5,
   "metadata": {},
   "outputs": [],
   "source": [
    "exp_path = '/Users/thomasvuillaume/Work/GammaLearn/experiments/'\n",
    "# exp_name = 'R_0266'\n",
    "# checkpoint = '100'\n",
    "exp_name = 'R_0300'\n",
    "checkpoint = '100'\n",
    "camera_model_path = '/Users/thomasvuillaume/Work/GammaLearn/GammaLearn/share/camera_parameters.h5'"
   ]
  },
  {
   "cell_type": "code",
   "execution_count": 6,
   "metadata": {},
   "outputs": [
    {
     "name": "stdout",
     "output_type": "stream",
     "text": [
      "n_pixels: 29\n"
     ]
    }
   ],
   "source": [
    "model = load_model(exp_path, exp_name, checkpoint, camera_model_path)"
   ]
  },
  {
   "cell_type": "code",
   "execution_count": 7,
   "metadata": {},
   "outputs": [],
   "source": [
    "softmax = torch.nn.Softmax()"
   ]
  },
  {
   "cell_type": "code",
   "execution_count": 8,
   "metadata": {},
   "outputs": [],
   "source": [
    "dl1_filename = '../dl1_data/dl1_gamma_test_large.simtel.h5'"
   ]
  },
  {
   "cell_type": "code",
   "execution_count": 9,
   "metadata": {},
   "outputs": [
    {
     "data": {
      "text/html": [
       "<div>\n",
       "<style scoped>\n",
       "    .dataframe tbody tr th:only-of-type {\n",
       "        vertical-align: middle;\n",
       "    }\n",
       "\n",
       "    .dataframe tbody tr th {\n",
       "        vertical-align: top;\n",
       "    }\n",
       "\n",
       "    .dataframe thead th {\n",
       "        text-align: right;\n",
       "    }\n",
       "</style>\n",
       "<table border=\"1\" class=\"dataframe\">\n",
       "  <thead>\n",
       "    <tr style=\"text-align: right;\">\n",
       "      <th></th>\n",
       "      <th>disp_angle</th>\n",
       "      <th>disp_dx</th>\n",
       "      <th>disp_dy</th>\n",
       "      <th>disp_miss</th>\n",
       "      <th>disp_norm</th>\n",
       "      <th>disp_sign</th>\n",
       "      <th>event_id</th>\n",
       "      <th>gps_time</th>\n",
       "      <th>intensity</th>\n",
       "      <th>intercept</th>\n",
       "      <th>...</th>\n",
       "      <th>src_y</th>\n",
       "      <th>tel_id</th>\n",
       "      <th>tel_pos_x</th>\n",
       "      <th>tel_pos_y</th>\n",
       "      <th>tel_pos_z</th>\n",
       "      <th>time_gradient</th>\n",
       "      <th>width</th>\n",
       "      <th>wl</th>\n",
       "      <th>x</th>\n",
       "      <th>y</th>\n",
       "    </tr>\n",
       "  </thead>\n",
       "  <tbody>\n",
       "    <tr>\n",
       "      <th>0</th>\n",
       "      <td>1.213061</td>\n",
       "      <td>0.283341</td>\n",
       "      <td>0.757963</td>\n",
       "      <td>0.088727</td>\n",
       "      <td>0.809191</td>\n",
       "      <td>1.0</td>\n",
       "      <td>31012</td>\n",
       "      <td>1.467925e+09</td>\n",
       "      <td>2.726635</td>\n",
       "      <td>10.772820</td>\n",
       "      <td>...</td>\n",
       "      <td>1.142787</td>\n",
       "      <td>2</td>\n",
       "      <td>-20.0</td>\n",
       "      <td>-65.0</td>\n",
       "      <td>16.0</td>\n",
       "      <td>-4.199312</td>\n",
       "      <td>0.099501</td>\n",
       "      <td>0.203462</td>\n",
       "      <td>-0.966779</td>\n",
       "      <td>0.384824</td>\n",
       "    </tr>\n",
       "    <tr>\n",
       "      <th>1</th>\n",
       "      <td>-1.315711</td>\n",
       "      <td>-0.109912</td>\n",
       "      <td>0.421497</td>\n",
       "      <td>0.006006</td>\n",
       "      <td>0.435592</td>\n",
       "      <td>-1.0</td>\n",
       "      <td>31012</td>\n",
       "      <td>1.467925e+09</td>\n",
       "      <td>4.386854</td>\n",
       "      <td>12.429269</td>\n",
       "      <td>...</td>\n",
       "      <td>1.142787</td>\n",
       "      <td>3</td>\n",
       "      <td>80.0</td>\n",
       "      <td>0.0</td>\n",
       "      <td>16.0</td>\n",
       "      <td>1.257596</td>\n",
       "      <td>0.174557</td>\n",
       "      <td>0.393136</td>\n",
       "      <td>-0.573526</td>\n",
       "      <td>0.721290</td>\n",
       "    </tr>\n",
       "    <tr>\n",
       "      <th>2</th>\n",
       "      <td>0.752671</td>\n",
       "      <td>-0.226153</td>\n",
       "      <td>-0.211814</td>\n",
       "      <td>0.083606</td>\n",
       "      <td>0.309856</td>\n",
       "      <td>-1.0</td>\n",
       "      <td>90914</td>\n",
       "      <td>1.467925e+09</td>\n",
       "      <td>1.950573</td>\n",
       "      <td>9.307944</td>\n",
       "      <td>...</td>\n",
       "      <td>0.502322</td>\n",
       "      <td>2</td>\n",
       "      <td>-20.0</td>\n",
       "      <td>-65.0</td>\n",
       "      <td>16.0</td>\n",
       "      <td>1.867749</td>\n",
       "      <td>0.039196</td>\n",
       "      <td>0.408410</td>\n",
       "      <td>0.569424</td>\n",
       "      <td>0.714137</td>\n",
       "    </tr>\n",
       "    <tr>\n",
       "      <th>3</th>\n",
       "      <td>-1.566774</td>\n",
       "      <td>0.001596</td>\n",
       "      <td>-0.396883</td>\n",
       "      <td>0.054431</td>\n",
       "      <td>0.396886</td>\n",
       "      <td>1.0</td>\n",
       "      <td>90914</td>\n",
       "      <td>1.467925e+09</td>\n",
       "      <td>2.044103</td>\n",
       "      <td>8.797758</td>\n",
       "      <td>...</td>\n",
       "      <td>0.502322</td>\n",
       "      <td>4</td>\n",
       "      <td>-120.0</td>\n",
       "      <td>0.0</td>\n",
       "      <td>16.0</td>\n",
       "      <td>-0.163486</td>\n",
       "      <td>0.049995</td>\n",
       "      <td>0.488243</td>\n",
       "      <td>0.341674</td>\n",
       "      <td>0.899205</td>\n",
       "    </tr>\n",
       "    <tr>\n",
       "      <th>4</th>\n",
       "      <td>1.462424</td>\n",
       "      <td>-0.041423</td>\n",
       "      <td>-0.380728</td>\n",
       "      <td>0.130275</td>\n",
       "      <td>0.382975</td>\n",
       "      <td>-1.0</td>\n",
       "      <td>153614</td>\n",
       "      <td>1.467925e+09</td>\n",
       "      <td>1.903458</td>\n",
       "      <td>8.764436</td>\n",
       "      <td>...</td>\n",
       "      <td>0.467924</td>\n",
       "      <td>1</td>\n",
       "      <td>-20.0</td>\n",
       "      <td>65.0</td>\n",
       "      <td>16.0</td>\n",
       "      <td>-4.672784</td>\n",
       "      <td>0.048217</td>\n",
       "      <td>0.495253</td>\n",
       "      <td>-0.461488</td>\n",
       "      <td>0.848652</td>\n",
       "    </tr>\n",
       "  </tbody>\n",
       "</table>\n",
       "<p>5 rows × 41 columns</p>\n",
       "</div>"
      ],
      "text/plain": [
       "   disp_angle   disp_dx   disp_dy  disp_miss  disp_norm  disp_sign  event_id  \\\n",
       "0    1.213061  0.283341  0.757963   0.088727   0.809191        1.0     31012   \n",
       "1   -1.315711 -0.109912  0.421497   0.006006   0.435592       -1.0     31012   \n",
       "2    0.752671 -0.226153 -0.211814   0.083606   0.309856       -1.0     90914   \n",
       "3   -1.566774  0.001596 -0.396883   0.054431   0.396886        1.0     90914   \n",
       "4    1.462424 -0.041423 -0.380728   0.130275   0.382975       -1.0    153614   \n",
       "\n",
       "       gps_time  intensity  intercept  ...     src_y  tel_id  tel_pos_x  \\\n",
       "0  1.467925e+09   2.726635  10.772820  ...  1.142787       2      -20.0   \n",
       "1  1.467925e+09   4.386854  12.429269  ...  1.142787       3       80.0   \n",
       "2  1.467925e+09   1.950573   9.307944  ...  0.502322       2      -20.0   \n",
       "3  1.467925e+09   2.044103   8.797758  ...  0.502322       4     -120.0   \n",
       "4  1.467925e+09   1.903458   8.764436  ...  0.467924       1      -20.0   \n",
       "\n",
       "   tel_pos_y  tel_pos_z  time_gradient     width        wl         x         y  \n",
       "0      -65.0       16.0      -4.199312  0.099501  0.203462 -0.966779  0.384824  \n",
       "1        0.0       16.0       1.257596  0.174557  0.393136 -0.573526  0.721290  \n",
       "2      -65.0       16.0       1.867749  0.039196  0.408410  0.569424  0.714137  \n",
       "3        0.0       16.0      -0.163486  0.049995  0.488243  0.341674  0.899205  \n",
       "4       65.0       16.0      -4.672784  0.048217  0.495253 -0.461488  0.848652  \n",
       "\n",
       "[5 rows x 41 columns]"
      ]
     },
     "execution_count": 9,
     "metadata": {},
     "output_type": "execute_result"
    }
   ],
   "source": [
    "dl1_table = pd.read_hdf(dl1_filename, key='events/LSTCam')\n",
    "dl1_table.head()"
   ]
  },
  {
   "cell_type": "code",
   "execution_count": 10,
   "metadata": {},
   "outputs": [],
   "source": [
    "with open_file(dl1_filename) as file:\n",
    "    images = file.root.events.LSTCam_images[:]['image']\n",
    "    pulse_times = file.root.events.LSTCam_images[:]['pulse_time']"
   ]
  },
  {
   "cell_type": "code",
   "execution_count": 11,
   "metadata": {},
   "outputs": [
    {
     "data": {
      "text/plain": [
       "((69, 1855), (69, 41))"
      ]
     },
     "execution_count": 11,
     "metadata": {},
     "output_type": "execute_result"
    }
   ],
   "source": [
    "images.shape, dl1_table.shape"
   ]
  },
  {
   "cell_type": "code",
   "execution_count": 12,
   "metadata": {},
   "outputs": [],
   "source": [
    "data = torch.tensor(np.transpose([images, pulse_times], axes=[1,0,2]), dtype=torch.float)"
   ]
  },
  {
   "cell_type": "code",
   "execution_count": 13,
   "metadata": {},
   "outputs": [],
   "source": [
    "prediction = model(data).squeeze(0).detach().numpy()"
   ]
  },
  {
   "cell_type": "code",
   "execution_count": 14,
   "metadata": {},
   "outputs": [],
   "source": [
    "softmax = torch.nn.Softmax(dim=1)\n",
    "soft = softmax(torch.tensor(prediction[:, 5:]))"
   ]
  },
  {
   "cell_type": "code",
   "execution_count": null,
   "metadata": {},
   "outputs": [],
   "source": []
  }
 ],
 "metadata": {
  "kernelspec": {
   "display_name": "cta-dev",
   "language": "python",
   "name": "cta-dev"
  },
  "language_info": {
   "codemirror_mode": {
    "name": "ipython",
    "version": 3
   },
   "file_extension": ".py",
   "mimetype": "text/x-python",
   "name": "python",
   "nbconvert_exporter": "python",
   "pygments_lexer": "ipython3",
   "version": "3.7.3"
  }
 },
 "nbformat": 4,
 "nbformat_minor": 2
}
